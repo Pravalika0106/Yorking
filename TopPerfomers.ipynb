{
 "cells": [
  {
   "cell_type": "code",
   "execution_count": 2,
   "metadata": {},
   "outputs": [],
   "source": [
    "top=[{'playerid':'203','cat':'bats','perfom':98},{'playerid':'201','cat':'baller','perfom':56},\n",
    "     {'playerid':'101','cat':'wicketKeeper','perfom':4},{'playerid':'108','cat':'bats','perfom':3}]"
   ]
  },
  {
   "cell_type": "code",
   "execution_count": null,
   "metadata": {},
   "outputs": [],
   "source": [
    "top_performance=[]\n",
    "for i in top:\n",
    "    if top[i]['cat']=='bats':\n",
    "        top"
   ]
  }
 ],
 "metadata": {
  "kernelspec": {
   "display_name": "Python 3",
   "language": "python",
   "name": "python3"
  },
  "language_info": {
   "codemirror_mode": {
    "name": "ipython",
    "version": 3
   },
   "file_extension": ".py",
   "mimetype": "text/x-python",
   "name": "python",
   "nbconvert_exporter": "python",
   "pygments_lexer": "ipython3",
   "version": "3.7.7"
  }
 },
 "nbformat": 4,
 "nbformat_minor": 4
}
